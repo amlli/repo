{
  "nbformat": 4,
  "nbformat_minor": 0,
  "metadata": {
    "colab": {
      "provenance": [],
      "toc_visible": true
    },
    "kernelspec": {
      "name": "python3",
      "display_name": "Python 3"
    },
    "language_info": {
      "name": "python"
    }
  },
  "cells": [
    {
      "cell_type": "markdown",
      "source": [
        "#Investigando la API"
      ],
      "metadata": {
        "id": "1-2d05hKA9MT"
      }
    },
    {
      "cell_type": "markdown",
      "source": [
        "Primero realicé las llamadas sumando un milisegundo a la última entry fetcheada de la api call previa, pero luego me preocupé. Qué pasa si me retorna 100 entries, pero la última timestamp tiene entries que no caben en esas 100? Si le sumo un milisegundo, habrían algunas que quedarían fuera, y no habría manera de fetchearlas? Qué pasa si en un milisegundo en específico, hay más de 100 entries? En ese caso, sería imposible fetchearlas todas, dado que se obtienen desde el tiempo más reciente, y no hay paginación\n",
        "\n",
        "Por lo que este script es para contar cuántas entries hay por timestamp"
      ],
      "metadata": {
        "id": "uHXRX_L_A_hT"
      }
    },
    {
      "cell_type": "code",
      "source": [
        "import time\n",
        "import requests\n",
        "from collections import defaultdict\n",
        "from datetime import datetime, timezone, timedelta\n",
        "\n",
        "market_id = 'btc-clp'\n",
        "url = f'https://www.buda.com/api/v2/markets/{market_id}/trades'\n",
        "\n",
        "end_time = datetime(2024, 3, 1, 12, 00, 0, tzinfo=timezone(timedelta(hours=-3)))\n",
        "end_timestamp = int(end_time.timestamp() * 1000)\n",
        "\n",
        "all_timestamps = []\n",
        "timestamp_counts = defaultdict(int)\n",
        "limit = 100\n",
        "\n",
        "response = requests.get(url, params={\n",
        "    'timestamp': end_timestamp,\n",
        "    'limit': limit\n",
        "})\n",
        "data = response.json()\n",
        "\n",
        "# collect timestamps\n",
        "for entry in data['trades']['entries']:\n",
        "    trade_timestamp = entry[0]\n",
        "    all_timestamps.append(trade_timestamp)\n",
        "    timestamp_counts[trade_timestamp] += 1\n",
        "\n",
        "total_entries_fetched = len(all_timestamps)\n",
        "\n",
        "print(\"Timestamp counts:\")\n",
        "for timestamp, count in timestamp_counts.items():\n",
        "    print(f\"{timestamp}: {count} entries\")\n",
        "\n",
        "print(\"\\nSummary:\")\n",
        "print(f\"Total API calls made: {calls_made}\")\n",
        "print(f\"Total trades fetched: {total_entries_fetched}\")\n"
      ],
      "metadata": {
        "colab": {
          "base_uri": "https://localhost:8080/"
        },
        "id": "WyhDXn3FAYxx",
        "outputId": "cf20f84c-cb48-4fda-e8ec-99033d18f916"
      },
      "execution_count": 41,
      "outputs": [
        {
          "output_type": "stream",
          "name": "stdout",
          "text": [
            "Timestamp counts:\n",
            "1709305153922: 2 entries\n",
            "1709305151112: 1 entries\n",
            "1709305128982: 1 entries\n",
            "1709305018005: 1 entries\n",
            "1709304977159: 1 entries\n",
            "1709304931292: 2 entries\n",
            "1709304905888: 1 entries\n",
            "1709304780072: 2 entries\n",
            "1709304759582: 1 entries\n",
            "1709304698602: 1 entries\n",
            "1709304688274: 4 entries\n",
            "1709304586457: 1 entries\n",
            "1709304554484: 2 entries\n",
            "1709304530350: 1 entries\n",
            "1709304509894: 1 entries\n",
            "1709304413060: 1 entries\n",
            "1709304342767: 2 entries\n",
            "1709304316860: 2 entries\n",
            "1709304255873: 1 entries\n",
            "1709304174872: 1 entries\n",
            "1709304159387: 1 entries\n",
            "1709304088447: 3 entries\n",
            "1709304068260: 1 entries\n",
            "1709304037636: 1 entries\n",
            "1709304037508: 1 entries\n",
            "1709304032066: 4 entries\n",
            "1709304021541: 1 entries\n",
            "1709303995481: 1 entries\n",
            "1709303931410: 1 entries\n",
            "1709303925964: 1 entries\n",
            "1709303879589: 1 entries\n",
            "1709303869312: 1 entries\n",
            "1709303818567: 1 entries\n",
            "1709303808126: 1 entries\n",
            "1709303777786: 1 entries\n",
            "1709303635825: 1 entries\n",
            "1709303509058: 1 entries\n",
            "1709303503697: 1 entries\n",
            "1709303396541: 1 entries\n",
            "1709303312066: 1 entries\n",
            "1709303299837: 1 entries\n",
            "1709303274411: 1 entries\n",
            "1709303216238: 1 entries\n",
            "1709303182979: 1 entries\n",
            "1709303031652: 1 entries\n",
            "1709302980871: 1 entries\n",
            "1709302880013: 1 entries\n",
            "1709302874398: 1 entries\n",
            "1709302818851: 1 entries\n",
            "1709302742466: 2 entries\n",
            "1709302581212: 1 entries\n",
            "1709302469490: 1 entries\n",
            "1709302469160: 7 entries\n",
            "1709302454031: 1 entries\n",
            "1709302443660: 1 entries\n",
            "1709302398134: 1 entries\n",
            "1709302216369: 1 entries\n",
            "1709302206059: 1 entries\n",
            "1709302080296: 1 entries\n",
            "1709302060222: 1 entries\n",
            "1709301974666: 1 entries\n",
            "1709301953800: 1 entries\n",
            "1709301805609: 1 entries\n",
            "1709301729389: 1 entries\n",
            "1709301678423: 1 entries\n",
            "1709301668294: 1 entries\n",
            "1709301627483: 1 entries\n",
            "1709301536919: 1 entries\n",
            "1709301521388: 1 entries\n",
            "1709301516249: 1 entries\n",
            "1709301510809: 1 entries\n",
            "1709301490706: 1 entries\n",
            "1709301429969: 1 entries\n",
            "1709301404641: 1 entries\n",
            "1709301318436: 1 entries\n",
            "1709301307931: 1 entries\n",
            "1709301292861: 49 entries\n",
            "\n",
            "Summary:\n",
            "Total API calls made: 1\n",
            "Total trades fetched: 146\n"
          ]
        }
      ]
    },
    {
      "cell_type": "markdown",
      "source": [
        "Esto me dice\n",
        "\n",
        "*   Efectivamente no hay solo una entry por timestamp, el sistema no va encolando los registros con una queue alterando los timestamps reales\n",
        "*   El límite de 100 no es estricto, por lo que si no se ha terminado de fetchear para una timestamp, se continúa hasta terminar al parecer\n",
        "*   En conclusión simplemente ir sumando un milisegundo a las llamadas hasta barrer el rango requerido tiene sentido\n",
        "*   quedo tranquila\n",
        "\n"
      ],
      "metadata": {
        "id": "469-7Mb1F8U5"
      }
    },
    {
      "cell_type": "markdown",
      "source": [
        "#¿Cuánto dinero (en CLP) se transó durante el evento \"Black Buda\" BTC-CLP ?"
      ],
      "metadata": {
        "id": "2HpB5wbXHIZj"
      }
    },
    {
      "cell_type": "code",
      "source": [
        "import requests\n",
        "import time\n",
        "from datetime import datetime\n",
        "\n",
        "# recibe el id del mercado, los límites del rango de tiempo\n",
        "#retorna todas las trades en ese período\n",
        "def get_trades(market_id, start_timestamp, end_timestamp):\n",
        "    trades = []\n",
        "    url = f'https://www.buda.com/api/v2/markets/{market_id}/trades'\n",
        "    params = {'timestamp': end_timestamp, 'limit': 100}\n",
        "\n",
        "    while True:\n",
        "        response = requests.get(url, params=params)\n",
        "        data = response.json()\n",
        "        entries = data['trades']['entries']\n",
        "        for entry in entries:\n",
        "            trade_time = int(entry[0])\n",
        "            if start_timestamp <= trade_time <= end_timestamp:\n",
        "                trades.append(entry)\n",
        "\n",
        "        if not entries or int(entries[-1][0]) < start_timestamp:\n",
        "            break\n",
        "\n",
        "        least_recent_timestamp = int(entries[-1][0])\n",
        "        params['timestamp'] = least_recent_timestamp -1\n",
        "\n",
        "    return trades\n",
        "\n"
      ],
      "metadata": {
        "id": "8BsS-a28RQdf"
      },
      "execution_count": 77,
      "outputs": []
    },
    {
      "cell_type": "code",
      "source": [
        "\n",
        "market_id = 'btc-clp'\n",
        "start_time = datetime(2024, 3, 1, 12, 0, 0)  # 12:00 GMT-3\n",
        "end_time = datetime(2024, 3, 1, 13, 0, 0)  # 13:00 GMT-3\n",
        "\n",
        "start_timestamp = int(start_time.timestamp() * 1000)\n",
        "end_timestamp = int(end_time.timestamp() * 1000)\n",
        "\n",
        "\n",
        "# Obtener las transacciones\n",
        "trades = get_trades(market_id, start_timestamp, end_timestamp)\n",
        "\n",
        "# Calcular el total de dinero transado en CLP\n",
        "total_value_clp = 0.0\n",
        "\n",
        "for trade in trades:\n",
        "    amount = float(trade[1])\n",
        "    price = float(trade[2])\n",
        "    total_value_clp += amount * price\n",
        "\n",
        "# Truncar el resultado a 2 decimales\n",
        "total_value_clp = int(total_value_clp * 100) / 100.0\n",
        "\n",
        "print(f\"Total de dinero transado durante el evento 'Black Buda' en CLP: {total_value_clp}\")\n"
      ],
      "metadata": {
        "colab": {
          "base_uri": "https://localhost:8080/"
        },
        "id": "UTFrukC1pcz2",
        "outputId": "4d24ece3-1de4-4e3f-85b0-de6b830418fb"
      },
      "execution_count": 73,
      "outputs": [
        {
          "output_type": "stream",
          "name": "stdout",
          "text": [
            "61\n",
            "Total de dinero transado durante el evento 'Black Buda' en CLP: 35583121.0\n"
          ]
        }
      ]
    },
    {
      "cell_type": "markdown",
      "source": [
        "#En comparación con el mismo día del año anterior, ¿cuál fue el aumento porcentual en el volumen de transacciones (en BTC)? (truncar en 2 decimales)"
      ],
      "metadata": {
        "id": "KTbKi7kCp05J"
      }
    },
    {
      "cell_type": "code",
      "source": [
        "def percentual_difference(value1, value2):\n",
        "    return (((value2 - value1)/value1) * 100)"
      ],
      "metadata": {
        "id": "8Tt1Binpy_G_"
      },
      "execution_count": 97,
      "outputs": []
    },
    {
      "cell_type": "code",
      "source": [
        "#2024\n",
        "total_value_btc_2024 = 0.00\n",
        "\n",
        "for trade in trades:\n",
        "    amount = float(trade[1])\n",
        "    total_value_btc_2024 += amount\n",
        "total_value_btc_2024 = int(total_value_btc_2024 * 100) / 100.0\n",
        "\n",
        "print(f\"total transado en btc en 2024 en periodo black buda: {total_value_btc_2024}\")\n",
        "print(f\"cantidad de transacciones en 2024 en periodo black buda: {len(trades)}\")\n",
        "\n",
        "#2023\n",
        "\n",
        "start_time_2023 = datetime(2023, 3, 1, 12, 0, 0)  # 12:00 GMT-3\n",
        "end_time_2023 = datetime(2023, 3, 1, 13, 0, 0)  # 13:00 GMT-3\n",
        "\n",
        "start_timestamp_2023 = int(start_time_2023.timestamp() * 1000)\n",
        "end_timestamp_2023 = int(end_time_2023.timestamp() * 1000)\n",
        "\n",
        "total_value_btc_2023 = 0.00\n",
        "trades_2023 = get_trades(market_id, start_timestamp_2023, end_timestamp_2023)\n",
        "\n",
        "for trade in trades_2023:\n",
        "    amount = float(trade[1])\n",
        "    total_value_btc_2023 += amount\n",
        "total_value_btc_2023 = int(total_value_btc_2023 * 100) / 100.0\n",
        "\n",
        "print(f\"total transado en btc en 2023 en periodo black buda: {total_value_btc_2023}\")\n",
        "print(f\"cantidad de transacciones en 2023 en periodo black buda: {len(trades_2023)}\")\n",
        "\n",
        "print('---')\n",
        "\n",
        "print(f\"DIFERENCIA PORCENTUAL de cantidad de BTC TRANSADO en periodo black buda: {percentual_difference(total_value_btc_2023, total_value_btc_2024)}\")\n",
        "print(f\"DIFERENCIA PORCENTUAL de cantidad de TRANSACCIONES en periodo black buda: {percentual_difference(len(trades_2023), len(trades))}\")\n"
      ],
      "metadata": {
        "colab": {
          "base_uri": "https://localhost:8080/"
        },
        "id": "kpvcj8EXp14w",
        "outputId": "66e9785b-4b36-45a6-ad33-6df902e577e6"
      },
      "execution_count": 99,
      "outputs": [
        {
          "output_type": "stream",
          "name": "stdout",
          "text": [
            "total transado en btc en 2024 en periodo black buda: 0.59\n",
            "cantidad de transacciones en 2024 en periodo black buda: 61\n",
            "total transado en btc en 2023 en periodo black buda: 0.65\n",
            "cantidad de transacciones en 2023 en periodo black buda: 36\n",
            "---\n",
            "DIFERENCIA PORCENTUAL de cantidad de BTC TRANSADO en periodo black buda: -9.230769230769239\n",
            "DIFERENCIA PORCENTUAL de cantidad de TRANSACCIONES en periodo black buda: 69.44444444444444\n"
          ]
        }
      ]
    },
    {
      "cell_type": "markdown",
      "source": [
        "Se transó bastante más btc el año pasado, pero en menos transacciones. quizás estaba más barato"
      ],
      "metadata": {
        "id": "CMY4ijzJ0zyT"
      }
    },
    {
      "cell_type": "markdown",
      "source": [
        "#Considerando que la comisión normal corresponde a un 0.8% ¿Cuánto dinero (en CLP) se dejó de ganar debido a la liberación de comisiones durante el BlackBuda?"
      ],
      "metadata": {
        "id": "QHBbgrgT09-p"
      }
    },
    {
      "cell_type": "code",
      "source": [
        "total_value_clp*0.008"
      ],
      "metadata": {
        "colab": {
          "base_uri": "https://localhost:8080/"
        },
        "id": "n-AifqU80_Bj",
        "outputId": "f6f86981-d63e-49cd-c091-9c9293651981"
      },
      "execution_count": 102,
      "outputs": [
        {
          "output_type": "execute_result",
          "data": {
            "text/plain": [
              "284664.968"
            ]
          },
          "metadata": {},
          "execution_count": 102
        }
      ]
    }
  ]
}